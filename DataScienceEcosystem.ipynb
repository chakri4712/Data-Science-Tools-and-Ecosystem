{
  "nbformat": 4,
  "nbformat_minor": 0,
  "metadata": {
    "colab": {
      "provenance": []
    },
    "kernelspec": {
      "name": "python3",
      "display_name": "Python 3"
    },
    "language_info": {
      "name": "python"
    }
  },
  "cells": [
    {
      "cell_type": "markdown",
      "source": [
        "# **Data Science Tools and Ecosystem**"
      ],
      "metadata": {
        "id": "itGWC2O8P5yz"
      }
    },
    {
      "cell_type": "markdown",
      "source": [
        "In this notebook, Data Science Tools and Ecosystems are summarized."
      ],
      "metadata": {
        "id": "KaO3vp6hQfVL"
      }
    },
    {
      "cell_type": "markdown",
      "source": [
        "# **Data Science Languages**\n",
        "\n",
        "Some of the popular languages that Data Scientists use are:\n",
        "1. Python\n",
        "2. R\n",
        "3. SQL\n",
        "\n"
      ],
      "metadata": {
        "id": "rle_iIS_QrvA"
      }
    },
    {
      "cell_type": "markdown",
      "source": [
        "# **Data Science Libraries**\n",
        "\n",
        "Some of the commonly used libraries used by Data Scientists include:\n",
        "1. Pandas\n",
        "2. Numpy\n",
        "3. Matplotlib\n",
        "4. Seaborn\n",
        "5. Apache Spark\n",
        "6. Ggplot2"
      ],
      "metadata": {
        "id": "TIMTjfLORmDl"
      }
    },
    {
      "cell_type": "markdown",
      "source": [
        "# **Data Science Tools**\n",
        "\n",
        "* Jupyter Notebook\n",
        "* Spyder\n",
        "* RStudio"
      ],
      "metadata": {
        "id": "9_QdSrINSQZ0"
      }
    },
    {
      "cell_type": "markdown",
      "source": [
        "# **Arithmetic Expression Examples**\n",
        "\n",
        "Below are few examples of evaluating arithmetic expressions in Python."
      ],
      "metadata": {
        "id": "Ezg36VIISxn2"
      }
    },
    {
      "cell_type": "code",
      "source": [
        "#This is a simple arithmetic expression to multiply then add integers.\n",
        "3 * 4 + 3"
      ],
      "metadata": {
        "colab": {
          "base_uri": "https://localhost:8080/"
        },
        "id": "8J08JWFlTEfE",
        "outputId": "de707d99-1992-4540-8b4c-5f458899dca8"
      },
      "execution_count": null,
      "outputs": [
        {
          "output_type": "execute_result",
          "data": {
            "text/plain": [
              "15"
            ]
          },
          "metadata": {},
          "execution_count": 1
        }
      ]
    },
    {
      "cell_type": "code",
      "source": [
        "#This will convert 300 minutes to hours by dividing by 60\n",
        "300//60"
      ],
      "metadata": {
        "colab": {
          "base_uri": "https://localhost:8080/"
        },
        "id": "6mJMVHOaUmgl",
        "outputId": "54751ef8-de89-4147-9666-7f64c5d47001"
      },
      "execution_count": null,
      "outputs": [
        {
          "output_type": "execute_result",
          "data": {
            "text/plain": [
              "5"
            ]
          },
          "metadata": {},
          "execution_count": 2
        }
      ]
    },
    {
      "cell_type": "markdown",
      "source": [
        "**Objectives:**\n",
        "\n",
        "1. Add comments to code cells\n",
        "2. Create markdown cells\n",
        "3. Add ordered and unordered lists to markdown cells\n",
        "4. Format content of markdown cells with heading styles\n",
        "\n"
      ],
      "metadata": {
        "id": "VXy7ifsoU8Kp"
      }
    },
    {
      "cell_type": "markdown",
      "source": [
        "**Author:**\n",
        "\n",
        "Ponnada Lalitha Chakradhar"
      ],
      "metadata": {
        "id": "pnYi_mbfVoJG"
      }
    }
  ]
}